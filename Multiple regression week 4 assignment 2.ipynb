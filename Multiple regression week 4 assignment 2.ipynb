{
 "cells": [
  {
   "cell_type": "code",
   "execution_count": 1,
   "metadata": {
    "collapsed": true
   },
   "outputs": [],
   "source": [
    "import graphlab"
   ]
  },
  {
   "cell_type": "code",
   "execution_count": 2,
   "metadata": {
    "collapsed": true
   },
   "outputs": [],
   "source": [
    "import os\n",
    "os.chdir(\"c:/dellbackup/all things data science/datasets\")"
   ]
  },
  {
   "cell_type": "code",
   "execution_count": 3,
   "metadata": {
    "collapsed": true
   },
   "outputs": [],
   "source": [
    "import numpy as np"
   ]
  },
  {
   "cell_type": "markdown",
   "metadata": {},
   "source": [
    "function to convert sframe into a 2D numpy array"
   ]
  },
  {
   "cell_type": "code",
   "execution_count": 4,
   "metadata": {
    "collapsed": false
   },
   "outputs": [
    {
     "name": "stdout",
     "output_type": "stream",
     "text": [
      "This non-commercial license of GraphLab Create for academic use is assigned to rm83234n@pace.edu and will expire on September 18, 2017.\n"
     ]
    },
    {
     "name": "stderr",
     "output_type": "stream",
     "text": [
      "[INFO] graphlab.cython.cy_server: GraphLab Create v2.1 started. Logging: C:\\Users\\Raisa\\AppData\\Local\\Temp\\graphlab_server_1479917231.log.0\n"
     ]
    }
   ],
   "source": [
    "sales = graphlab.SFrame(\"kc_house_data.gl/\")"
   ]
  },
  {
   "cell_type": "code",
   "execution_count": 5,
   "metadata": {
    "collapsed": true
   },
   "outputs": [],
   "source": [
    "def get_numpy_data(data_sframe,features,output):\n",
    "    data_sframe[\"constant\"] = 1\n",
    "    features = [\"constant\"] + features\n",
    "    features_sframe = data_sframe[features]\n",
    "    feature_matrix = features_sframe.to_numpy()\n",
    "    output_sarray = data_sframe[output]\n",
    "    output_array = output_sarray.to_numpy()\n",
    "    \n",
    "    return (feature_matrix, output_array)"
   ]
  },
  {
   "cell_type": "code",
   "execution_count": 6,
   "metadata": {
    "collapsed": true
   },
   "outputs": [],
   "source": [
    "def predict_output(feature_matrix,weights):\n",
    "    predictions = np.dot(feature_matrix,weights)\n",
    "    return (predictions)"
   ]
  },
  {
   "cell_type": "markdown",
   "metadata": {},
   "source": [
    "### computing the derivative\n",
    "cost function is sum over the data points of the squared difference between an observed output and predicted output plus the l2_penalty term\n",
    "\n",
    "cost(w0 = SUM[(prediction - output)**2 ] + l2_penalty*(w[0]^2 + w[1]^2 +...w[k]^2)\n",
    "\n",
    "derivative is 2*sum(error[feature_i[) + 2*l2_penalty*w[i]\n",
    "\n",
    "#note we are not regularizing the constant"
   ]
  },
  {
   "cell_type": "code",
   "execution_count": 7,
   "metadata": {
    "collapsed": true
   },
   "outputs": [],
   "source": [
    "def feature_derivative_ridge(errors,feature,weight,l2_penalty,feature_is_constant):\n",
    "    if feature_is_constant == True:\n",
    "        derivative = 2 * (np.dot(errors, feature))\n",
    "    else:\n",
    "        derivative = (2 * (np.dot(errors, feature))) + (2 * l2_penalty * weight)\n",
    "    return derivative"
   ]
  },
  {
   "cell_type": "code",
   "execution_count": 8,
   "metadata": {
    "collapsed": true
   },
   "outputs": [],
   "source": [
    "#testing the above function\n",
    "(example_features,example_output) = get_numpy_data(sales,[\"sqft_living\"],\"price\")"
   ]
  },
  {
   "cell_type": "code",
   "execution_count": 9,
   "metadata": {
    "collapsed": false
   },
   "outputs": [],
   "source": [
    "my_weights = np.array([1.,10.])\n",
    "test_predictions = predict_output(example_features,my_weights)"
   ]
  },
  {
   "cell_type": "code",
   "execution_count": 10,
   "metadata": {
    "collapsed": true
   },
   "outputs": [],
   "source": [
    "errors = test_predictions - example_output"
   ]
  },
  {
   "cell_type": "code",
   "execution_count": 11,
   "metadata": {
    "collapsed": false
   },
   "outputs": [
    {
     "name": "stdout",
     "output_type": "stream",
     "text": [
      "-5.65541667824e+13\n"
     ]
    }
   ],
   "source": [
    "print feature_derivative_ridge(errors, example_features[:,1],my_weights[1],1, False)"
   ]
  },
  {
   "cell_type": "code",
   "execution_count": 12,
   "metadata": {
    "collapsed": false
   },
   "outputs": [
    {
     "name": "stdout",
     "output_type": "stream",
     "text": [
      "-5.65541667824e+13\n",
      "\n"
     ]
    }
   ],
   "source": [
    "print np.sum(errors*example_features[:,1])*2+20.\n",
    "print \"\""
   ]
  },
  {
   "cell_type": "code",
   "execution_count": 13,
   "metadata": {
    "collapsed": false
   },
   "outputs": [
    {
     "name": "stdout",
     "output_type": "stream",
     "text": [
      "-22446749336.0\n"
     ]
    }
   ],
   "source": [
    "print feature_derivative_ridge(errors,example_features[:,0],my_weights[0], 1, True)"
   ]
  },
  {
   "cell_type": "code",
   "execution_count": 14,
   "metadata": {
    "collapsed": false
   },
   "outputs": [
    {
     "name": "stdout",
     "output_type": "stream",
     "text": [
      "-22446749336.0\n"
     ]
    }
   ],
   "source": [
    "print np.sum(errors)*2"
   ]
  },
  {
   "cell_type": "code",
   "execution_count": 15,
   "metadata": {
    "collapsed": false
   },
   "outputs": [
    {
     "data": {
      "text/plain": [
       "array([  1.,  10.])"
      ]
     },
     "execution_count": 15,
     "metadata": {},
     "output_type": "execute_result"
    }
   ],
   "source": [
    "my_weights"
   ]
  },
  {
   "cell_type": "code",
   "execution_count": 16,
   "metadata": {
    "collapsed": false
   },
   "outputs": [
    {
     "data": {
      "text/plain": [
       "1.0"
      ]
     },
     "execution_count": 16,
     "metadata": {},
     "output_type": "execute_result"
    }
   ],
   "source": [
    "my_weights[0]"
   ]
  },
  {
   "cell_type": "code",
   "execution_count": 19,
   "metadata": {
    "collapsed": false
   },
   "outputs": [
    {
     "data": {
      "text/plain": [
       "array([[  1.00000000e+00,   1.18000000e+03],\n",
       "       [  1.00000000e+00,   2.57000000e+03],\n",
       "       [  1.00000000e+00,   7.70000000e+02],\n",
       "       ..., \n",
       "       [  1.00000000e+00,   1.02000000e+03],\n",
       "       [  1.00000000e+00,   1.60000000e+03],\n",
       "       [  1.00000000e+00,   1.02000000e+03]])"
      ]
     },
     "execution_count": 19,
     "metadata": {},
     "output_type": "execute_result"
    }
   ],
   "source": [
    "example_features"
   ]
  },
  {
   "cell_type": "markdown",
   "metadata": {},
   "source": [
    "### Gradient Descent\n",
    "writing a function that performs a gradient descent. Given a starting point we update the current weights by moving in the negative gradient direction(because we are trying to minimize a cost function). The amount by which we move in the negative gradient direction is called the step size. We stop when we are sufficiently close to the optimum.This time we will set a maximum number of iterations and take gradient steps until we reach this maximum number. If no maximum number is supplied, the maximum should be set to 100 by default.  "
   ]
  },
  {
   "cell_type": "code",
   "execution_count": 51,
   "metadata": {
    "collapsed": false
   },
   "outputs": [],
   "source": [
    "def ridge_regression_gradient_descent(feature_matrix, output,initial_weights,step_size, l2_penalty, max_iterations=100):\n",
    "    print \"Starting gradient descent with l2_penalty = \" + str(l2_penalty)\n",
    "    \n",
    "    weights = np.array(initial_weights) #making sure it's a numpy array\n",
    "    iteration = 0 #iteration counter\n",
    "    print_frequency = 1 #for adjusting frequency of debugging output\n",
    "    \n",
    "    #while not reached maximum number of iterations\n",
    "    while iteration < max_iterations:\n",
    "         #increment iteration counter\n",
    "        if iteration == 10:\n",
    "            print_frequency = 10\n",
    "        if iteration == 100:\n",
    "            print_frequency = 100\n",
    "        if iteration%print_frequency==0:\n",
    "            print('Iteration = ' + str(iteration))\n",
    "        \n",
    "    #computing the predictions based on feature_matrix and weights using our predict_output function\n",
    "        predictions = predict_output(feature_matrix, weights)\n",
    "    #computing the errors as predictions - output\n",
    "        errors = predictions - output\n",
    "    \n",
    "    #printing the cost function from time to time\n",
    "        if iteration%print_frequency == 0:\n",
    "            print 'Cost function = ', str(np.dot(errors,errors) + l2_penalty*(np.dot(weights,weights) - weights[0]**2))\n",
    "\n",
    "        for i in xrange(len(weights)): #loop over each weight\n",
    "        #we know that feature_matrix[:,i] is the feature column of weights\n",
    "        #computing the derivative for weight[i] and for i = 0 we are computing derivative of a constant\n",
    "            if i== 0:\n",
    "                derivative = feature_derivative_ridge(errors, feature_matrix[:,0], weights[0], l2_penalty, True)\n",
    "\n",
    "            else:\n",
    "                derivative = feature_derivative_ridge(errors, feature_matrix[:,i], weights[i], l2_penalty, False) \n",
    "\n",
    "                weights[i] = weights[i] - step_size*derivative\n",
    "            iteration += 1\n",
    "    print \"Done with gradient descent at iteration \", iteration\n",
    "    print \"learned weights = \", str(weights)\n",
    "    return weights\n",
    "            \n",
    "        \n",
    "    "
   ]
  },
  {
   "cell_type": "code",
   "execution_count": 30,
   "metadata": {
    "collapsed": true
   },
   "outputs": [],
   "source": [
    "simple_features = [\"sqft_living\"]\n",
    "my_output = \"price\""
   ]
  },
  {
   "cell_type": "code",
   "execution_count": 31,
   "metadata": {
    "collapsed": true
   },
   "outputs": [],
   "source": [
    "#splitting the dataset into training set and test set\n",
    "train_data,test_data = sales.random_split(.8,seed=0)"
   ]
  },
  {
   "cell_type": "code",
   "execution_count": 32,
   "metadata": {
    "collapsed": false
   },
   "outputs": [],
   "source": [
    "#using get_numpy_data to get numpy versions of our data with only sqft_living as a feature and price as output\n",
    "(simple_feature_matrix,output) = get_numpy_data(train_data,simple_features,my_output)"
   ]
  },
  {
   "cell_type": "code",
   "execution_count": 33,
   "metadata": {
    "collapsed": true
   },
   "outputs": [],
   "source": [
    "(simple_test_feature_matrix,test_output) = get_numpy_data(test_data,simple_features,my_output)"
   ]
  },
  {
   "cell_type": "markdown",
   "metadata": {},
   "source": [
    "Setting the parameters for our optimization\n"
   ]
  },
  {
   "cell_type": "code",
   "execution_count": 34,
   "metadata": {
    "collapsed": true
   },
   "outputs": [],
   "source": [
    "initial_weights = np.array([0.,0.])\n",
    "step_size = 1e-12\n",
    "max_iterations = 1000"
   ]
  },
  {
   "cell_type": "code",
   "execution_count": 52,
   "metadata": {
    "collapsed": false
   },
   "outputs": [
    {
     "name": "stdout",
     "output_type": "stream",
     "text": [
      "Starting gradient descent with l2_penalty = 0.0\n",
      "Iteration = 0\n",
      "Cost function =  7.43305185103e+15\n",
      "Iteration = 2\n",
      "Cost function =  5.39426750061e+15\n",
      "Iteration = 4\n",
      "Cost function =  4.02323812014e+15\n",
      "Iteration = 6\n",
      "Cost function =  3.1012565669e+15\n",
      "Iteration = 8\n",
      "Cost function =  2.48124798311e+15\n",
      "Iteration = 10\n",
      "Cost function =  2.06430835714e+15\n",
      "Iteration = 20\n",
      "Cost function =  1.32597922215e+15\n",
      "Iteration = 30\n",
      "Cost function =  1.22444151371e+15\n",
      "Iteration = 40\n",
      "Cost function =  1.21047767868e+15\n",
      "Iteration = 50\n",
      "Cost function =  1.20855732129e+15\n",
      "Iteration = 60\n",
      "Cost function =  1.20829322676e+15\n",
      "Iteration = 70\n",
      "Cost function =  1.20825690752e+15\n",
      "Iteration = 80\n",
      "Cost function =  1.20825191276e+15\n",
      "Iteration = 90\n",
      "Cost function =  1.20825122587e+15\n",
      "Iteration = 100\n",
      "Cost function =  1.2082511314e+15\n",
      "Iteration = 200\n",
      "Cost function =  1.20825111634e+15\n",
      "Iteration = 300\n",
      "Cost function =  1.20825111634e+15\n",
      "Iteration = 400\n",
      "Cost function =  1.20825111634e+15\n",
      "Iteration = 500\n",
      "Cost function =  1.20825111634e+15\n",
      "Iteration = 600\n",
      "Cost function =  1.20825111634e+15\n",
      "Iteration = 700\n",
      "Cost function =  1.20825111634e+15\n",
      "Iteration = 800\n",
      "Cost function =  1.20825111634e+15\n",
      "Iteration = 900\n",
      "Cost function =  1.20825111634e+15\n",
      "Done with gradient descent at iteration  1000\n",
      "learned weights =  [   0.          263.02430396]\n"
     ]
    }
   ],
   "source": [
    "#considering no regularization\n",
    "l2_penalty = 0.0\n",
    "simple_weights_0_penalty = ridge_regression_gradient_descent(simple_feature_matrix, output, initial_weights, step_size, l2_penalty, max_iterations)"
   ]
  },
  {
   "cell_type": "code",
   "execution_count": 54,
   "metadata": {
    "collapsed": false
   },
   "outputs": [
    {
     "name": "stdout",
     "output_type": "stream",
     "text": [
      "Starting gradient descent with l2_penalty = 1e+11\n",
      "Iteration = 0\n",
      "Cost function =  7.43305185103e+15\n",
      "Iteration = 2\n",
      "Cost function =  5.61830418589e+15\n",
      "Iteration = 4\n",
      "Cost function =  4.92061370357e+15\n",
      "Iteration = 6\n",
      "Cost function =  4.65238246765e+15\n",
      "Iteration = 8\n",
      "Cost function =  4.54925938119e+15\n",
      "Iteration = 10\n",
      "Cost function =  4.50961310017e+15\n",
      "Iteration = 20\n",
      "Cost function =  4.48505884525e+15\n",
      "Iteration = 30\n",
      "Cost function =  4.4848526116e+15\n",
      "Iteration = 40\n",
      "Cost function =  4.48485087943e+15\n",
      "Iteration = 50\n",
      "Cost function =  4.48485086488e+15\n",
      "Iteration = 60\n",
      "Cost function =  4.48485086475e+15\n",
      "Iteration = 70\n",
      "Cost function =  4.48485086475e+15\n",
      "Iteration = 80\n",
      "Cost function =  4.48485086475e+15\n",
      "Iteration = 90\n",
      "Cost function =  4.48485086475e+15\n",
      "Iteration = 100\n",
      "Cost function =  4.48485086475e+15\n",
      "Iteration = 200\n",
      "Cost function =  4.48485086475e+15\n",
      "Iteration = 300\n",
      "Cost function =  4.48485086475e+15\n",
      "Iteration = 400\n",
      "Cost function =  4.48485086475e+15\n",
      "Iteration = 500\n",
      "Cost function =  4.48485086475e+15\n",
      "Iteration = 600\n",
      "Cost function =  4.48485086475e+15\n",
      "Iteration = 700\n",
      "Cost function =  4.48485086475e+15\n",
      "Iteration = 800\n",
      "Cost function =  4.48485086475e+15\n",
      "Iteration = 900\n",
      "Cost function =  4.48485086475e+15\n",
      "Done with gradient descent at iteration  1000\n",
      "learned weights =  [   0.          124.57402982]\n"
     ]
    }
   ],
   "source": [
    "#considering high regularization\n",
    "l2_penalty = 1e11\n",
    "simple_weights_high_penalty = ridge_regression_gradient_descent(simple_feature_matrix,output, initial_weights,\n",
    "                                                               step_size,l2_penalty, max_iterations=1000)"
   ]
  },
  {
   "cell_type": "markdown",
   "metadata": {},
   "source": [
    "Plottin the two models. The blue line would be for the model with no regularization and red line for the one with high regularization\n"
   ]
  },
  {
   "cell_type": "code",
   "execution_count": 55,
   "metadata": {
    "collapsed": true
   },
   "outputs": [],
   "source": [
    "import matplotlib.pyplot as plt"
   ]
  },
  {
   "cell_type": "code",
   "execution_count": 56,
   "metadata": {
    "collapsed": true
   },
   "outputs": [],
   "source": [
    "%matplotlib inline"
   ]
  },
  {
   "cell_type": "code",
   "execution_count": 58,
   "metadata": {
    "collapsed": false
   },
   "outputs": [
    {
     "data": {
      "text/plain": [
       "[<matplotlib.lines.Line2D at 0x214d2b70>,\n",
       " <matplotlib.lines.Line2D at 0x214d2c50>,\n",
       " <matplotlib.lines.Line2D at 0x214d2e10>,\n",
       " <matplotlib.lines.Line2D at 0x214eb898>,\n",
       " <matplotlib.lines.Line2D at 0x214eb9b0>,\n",
       " <matplotlib.lines.Line2D at 0x215c63c8>]"
      ]
     },
     "execution_count": 58,
     "metadata": {},
     "output_type": "execute_result"
    },
    {
     "data": {
      "image/png": "[encoded data removed]",
      "text/plain": [
       "<matplotlib.figure.Figure at 0x21344d68>"
      ]
     },
     "metadata": {},
     "output_type": "display_data"
    }
   ],
   "source": [
    "plt.plot(simple_feature_matrix,output,\"k.\",\n",
    "        simple_feature_matrix,predict_output(simple_feature_matrix,simple_weights_0_penalty),\"b-\",\n",
    "        simple_feature_matrix,predict_output(simple_feature_matrix,simple_weights_high_penalty),\"r-\")"
   ]
  },
  {
   "cell_type": "code",
   "execution_count": 59,
   "metadata": {
    "collapsed": true
   },
   "outputs": [],
   "source": [
    "def get_RSS(output,weights, feature_matrix):\n",
    "    predictions = predict_output(feature_matrix,weights)\n",
    "    errors = predictions - output\n",
    "    RS = errors * errors\n",
    "    RSS = RS.sum()\n",
    "    return RSS"
   ]
  },
  {
   "cell_type": "code",
   "execution_count": 60,
   "metadata": {
    "collapsed": true
   },
   "outputs": [],
   "source": [
    "zero_weights = np.array([0.,0.])\n",
    "\n"
   ]
  },
  {
   "cell_type": "code",
   "execution_count": 61,
   "metadata": {
    "collapsed": false
   },
   "outputs": [
    {
     "data": {
      "text/plain": [
       "1784273282524564.0"
      ]
     },
     "execution_count": 61,
     "metadata": {},
     "output_type": "execute_result"
    }
   ],
   "source": [
    "get_RSS(test_output, zero_weights,simple_test_feature_matrix)"
   ]
  },
  {
   "cell_type": "code",
   "execution_count": 62,
   "metadata": {
    "collapsed": false
   },
   "outputs": [
    {
     "data": {
      "text/plain": [
       "275723640878106.84"
      ]
     },
     "execution_count": 62,
     "metadata": {},
     "output_type": "execute_result"
    }
   ],
   "source": [
    "get_RSS(test_output, simple_weights_0_penalty, simple_test_feature_matrix)"
   ]
  },
  {
   "cell_type": "code",
   "execution_count": 64,
   "metadata": {
    "collapsed": false
   },
   "outputs": [
    {
     "data": {
      "text/plain": [
       "694654370053842.0"
      ]
     },
     "execution_count": 64,
     "metadata": {},
     "output_type": "execute_result"
    }
   ],
   "source": [
    "get_RSS(test_output, simple_weights_high_penalty, simple_test_feature_matrix)"
   ]
  },
  {
   "cell_type": "markdown",
   "metadata": {},
   "source": [
    "### Running multiple regression with L2 penalty\n",
    "considering the features as sqft_living and sqft_living15"
   ]
  },
  {
   "cell_type": "code",
   "execution_count": 66,
   "metadata": {
    "collapsed": false
   },
   "outputs": [],
   "source": [
    "model_features = [\"sqft_living\",\"sqft_living15\"]\n",
    "my_output = \"price\"\n",
    "(feature_matrix,output) = get_numpy_data(train_data,model_features,my_output)\n",
    "(test_feature_matrix,test_output) = get_numpy_data(test_data,model_features,my_output)"
   ]
  },
  {
   "cell_type": "markdown",
   "metadata": {},
   "source": [
    "Since we now have an extra parameter we would have 3 weights now, initiazlizing them as follows"
   ]
  },
  {
   "cell_type": "code",
   "execution_count": 67,
   "metadata": {
    "collapsed": true
   },
   "outputs": [],
   "source": [
    "initial_weights = np.array([0.0,0.0,0.0])\n",
    "step_size = 1e-12\n",
    "max_iterations = 1000"
   ]
  },
  {
   "cell_type": "code",
   "execution_count": 68,
   "metadata": {
    "collapsed": false
   },
   "outputs": [
    {
     "name": "stdout",
     "output_type": "stream",
     "text": [
      "Starting gradient descent with l2_penalty = 0.0\n",
      "Iteration = 0\n",
      "Cost function =  7.43305185103e+15\n",
      "Iteration = 3\n",
      "Cost function =  4.05675256408e+15\n",
      "Iteration = 6\n",
      "Cost function =  2.52956531389e+15\n",
      "Iteration = 9\n",
      "Cost function =  1.83855681657e+15\n",
      "Iteration = 12\n",
      "Cost function =  1.52567563455e+15\n",
      "Iteration = 15\n",
      "Cost function =  1.38378951705e+15\n",
      "Iteration = 18\n",
      "Cost function =  1.31923260065e+15\n",
      "Iteration = 21\n",
      "Cost function =  1.28964885323e+15\n",
      "Iteration = 24\n",
      "Cost function =  1.27588469844e+15\n",
      "Iteration = 27\n",
      "Cost function =  1.26927877861e+15\n",
      "Iteration = 30\n",
      "Cost function =  1.26591434854e+15\n",
      "Iteration = 33\n",
      "Cost function =  1.26402019125e+15\n",
      "Iteration = 36\n",
      "Cost function =  1.26279530448e+15\n",
      "Iteration = 39\n",
      "Cost function =  1.26187742056e+15\n",
      "Iteration = 42\n",
      "Cost function =  1.26110266942e+15\n",
      "Iteration = 45\n",
      "Cost function =  1.26039689765e+15\n",
      "Iteration = 48\n",
      "Cost function =  1.25972652253e+15\n",
      "Iteration = 51\n",
      "Cost function =  1.25907630812e+15\n",
      "Iteration = 54\n",
      "Cost function =  1.25843931558e+15\n",
      "Iteration = 57\n",
      "Cost function =  1.25781235855e+15\n",
      "Iteration = 60\n",
      "Cost function =  1.2571939482e+15\n",
      "Iteration = 63\n",
      "Cost function =  1.25658336385e+15\n",
      "Iteration = 66\n",
      "Cost function =  1.25598023275e+15\n",
      "Iteration = 69\n",
      "Cost function =  1.25538434005e+15\n",
      "Iteration = 72\n",
      "Cost function =  1.25479554285e+15\n",
      "Iteration = 75\n",
      "Cost function =  1.2542137313e+15\n",
      "Iteration = 78\n",
      "Cost function =  1.25363881107e+15\n",
      "Iteration = 81\n",
      "Cost function =  1.25307069535e+15\n",
      "Iteration = 84\n",
      "Cost function =  1.25250930126e+15\n",
      "Iteration = 87\n",
      "Cost function =  1.25195454821e+15\n",
      "Iteration = 90\n",
      "Cost function =  1.25140635717e+15\n",
      "Iteration = 93\n",
      "Cost function =  1.25086465029e+15\n",
      "Iteration = 96\n",
      "Cost function =  1.25032935078e+15\n",
      "Iteration = 99\n",
      "Cost function =  1.24980038282e+15\n",
      "Iteration = 102\n",
      "Cost function =  1.24927767148e+15\n",
      "Iteration = 105\n",
      "Cost function =  1.24876114277e+15\n",
      "Iteration = 108\n",
      "Cost function =  1.24825072354e+15\n",
      "Iteration = 111\n",
      "Cost function =  1.24774634153e+15\n",
      "Iteration = 114\n",
      "Cost function =  1.24724792533e+15\n",
      "Iteration = 117\n",
      "Cost function =  1.24675540439e+15\n",
      "Iteration = 120\n",
      "Cost function =  1.24626870896e+15\n",
      "Iteration = 123\n",
      "Cost function =  1.24578777015e+15\n",
      "Iteration = 126\n",
      "Cost function =  1.24531251986e+15\n",
      "Iteration = 129\n",
      "Cost function =  1.24484289082e+15\n",
      "Iteration = 132\n",
      "Cost function =  1.24437881653e+15\n",
      "Iteration = 135\n",
      "Cost function =  1.2439202313e+15\n",
      "Iteration = 138\n",
      "Cost function =  1.2434670702e+15\n",
      "Iteration = 141\n",
      "Cost function =  1.24301926907e+15\n",
      "Iteration = 144\n",
      "Cost function =  1.24257676451e+15\n",
      "Iteration = 147\n",
      "Cost function =  1.24213949389e+15\n",
      "Iteration = 150\n",
      "Cost function =  1.24170739528e+15\n",
      "Iteration = 153\n",
      "Cost function =  1.24128040752e+15\n",
      "Iteration = 156\n",
      "Cost function =  1.24085847016e+15\n",
      "Iteration = 159\n",
      "Cost function =  1.24044152345e+15\n",
      "Iteration = 162\n",
      "Cost function =  1.24002950838e+15\n",
      "Iteration = 165\n",
      "Cost function =  1.2396223666e+15\n",
      "Iteration = 168\n",
      "Cost function =  1.23922004049e+15\n",
      "Iteration = 171\n",
      "Cost function =  1.23882247307e+15\n",
      "Iteration = 174\n",
      "Cost function =  1.23842960806e+15\n",
      "Iteration = 177\n",
      "Cost function =  1.23804138985e+15\n",
      "Iteration = 180\n",
      "Cost function =  1.23765776347e+15\n",
      "Iteration = 183\n",
      "Cost function =  1.23727867461e+15\n",
      "Iteration = 186\n",
      "Cost function =  1.2369040696e+15\n",
      "Iteration = 189\n",
      "Cost function =  1.2365338954e+15\n",
      "Iteration = 192\n",
      "Cost function =  1.23616809961e+15\n",
      "Iteration = 195\n",
      "Cost function =  1.23580663043e+15\n",
      "Iteration = 198\n",
      "Cost function =  1.23544943671e+15\n",
      "Iteration = 201\n",
      "Cost function =  1.23509646785e+15\n",
      "Iteration = 204\n",
      "Cost function =  1.2347476739e+15\n",
      "Iteration = 207\n",
      "Cost function =  1.23440300547e+15\n",
      "Iteration = 210\n",
      "Cost function =  1.23406241377e+15\n",
      "Iteration = 213\n",
      "Cost function =  1.23372585057e+15\n",
      "Iteration = 216\n",
      "Cost function =  1.23339326823e+15\n",
      "Iteration = 219\n",
      "Cost function =  1.23306461966e+15\n",
      "Iteration = 222\n",
      "Cost function =  1.23273985834e+15\n",
      "Iteration = 225\n",
      "Cost function =  1.23241893828e+15\n",
      "Iteration = 228\n",
      "Cost function =  1.23210181405e+15\n",
      "Iteration = 231\n",
      "Cost function =  1.23178844075e+15\n",
      "Iteration = 234\n",
      "Cost function =  1.23147877403e+15\n",
      "Iteration = 237\n",
      "Cost function =  1.23117277003e+15\n",
      "Iteration = 240\n",
      "Cost function =  1.23087038543e+15\n",
      "Iteration = 243\n",
      "Cost function =  1.23057157743e+15\n",
      "Iteration = 246\n",
      "Cost function =  1.23027630371e+15\n",
      "Iteration = 249\n",
      "Cost function =  1.22998452249e+15\n",
      "Iteration = 252\n",
      "Cost function =  1.22969619244e+15\n",
      "Iteration = 255\n",
      "Cost function =  1.22941127275e+15\n",
      "Iteration = 258\n",
      "Cost function =  1.22912972308e+15\n",
      "Iteration = 261\n",
      "Cost function =  1.22885150357e+15\n",
      "Iteration = 264\n",
      "Cost function =  1.22857657483e+15\n",
      "Iteration = 267\n",
      "Cost function =  1.22830489793e+15\n",
      "Iteration = 270\n",
      "Cost function =  1.22803643442e+15\n",
      "Iteration = 273\n",
      "Cost function =  1.22777114629e+15\n",
      "Iteration = 276\n",
      "Cost function =  1.22750899597e+15\n",
      "Iteration = 279\n",
      "Cost function =  1.22724994636e+15\n",
      "Iteration = 282\n",
      "Cost function =  1.22699396078e+15\n",
      "Iteration = 285\n",
      "Cost function =  1.22674100299e+15\n",
      "Iteration = 288\n",
      "Cost function =  1.22649103717e+15\n",
      "Iteration = 291\n",
      "Cost function =  1.22624402794e+15\n",
      "Iteration = 294\n",
      "Cost function =  1.22599994033e+15\n",
      "Iteration = 297\n",
      "Cost function =  1.22575873977e+15\n",
      "Iteration = 300\n",
      "Cost function =  1.22552039213e+15\n",
      "Iteration = 303\n",
      "Cost function =  1.22528486365e+15\n",
      "Iteration = 306\n",
      "Cost function =  1.225052121e+15\n",
      "Iteration = 309\n",
      "Cost function =  1.22482213121e+15\n",
      "Iteration = 312\n",
      "Cost function =  1.22459486174e+15\n",
      "Iteration = 315\n",
      "Cost function =  1.2243702804e+15\n",
      "Iteration = 318\n",
      "Cost function =  1.22414835541e+15\n",
      "Iteration = 321\n",
      "Cost function =  1.22392905533e+15\n",
      "Iteration = 324\n",
      "Cost function =  1.22371234913e+15\n",
      "Iteration = 327\n",
      "Cost function =  1.22349820612e+15\n",
      "Iteration = 330\n",
      "Cost function =  1.22328659598e+15\n",
      "Iteration = 333\n",
      "Cost function =  1.22307748876e+15\n",
      "Iteration = 336\n",
      "Cost function =  1.22287085486e+15\n",
      "Iteration = 339\n",
      "Cost function =  1.22266666501e+15\n",
      "Iteration = 342\n",
      "Cost function =  1.22246489032e+15\n",
      "Iteration = 345\n",
      "Cost function =  1.2222655022e+15\n",
      "Iteration = 348\n",
      "Cost function =  1.22206847245e+15\n",
      "Iteration = 351\n",
      "Cost function =  1.22187377315e+15\n",
      "Iteration = 354\n",
      "Cost function =  1.22168137675e+15\n",
      "Iteration = 357\n",
      "Cost function =  1.22149125601e+15\n",
      "Iteration = 360\n",
      "Cost function =  1.221303384e+15\n",
      "Iteration = 363\n",
      "Cost function =  1.22111773414e+15\n",
      "Iteration = 366\n",
      "Cost function =  1.22093428015e+15\n",
      "Iteration = 369\n",
      "Cost function =  1.22075299603e+15\n",
      "Iteration = 372\n",
      "Cost function =  1.22057385614e+15\n",
      "Iteration = 375\n",
      "Cost function =  1.22039683512e+15\n",
      "Iteration = 378\n",
      "Cost function =  1.22022190788e+15\n",
      "Iteration = 381\n",
      "Cost function =  1.22004904969e+15\n",
      "Iteration = 384\n",
      "Cost function =  1.21987823605e+15\n",
      "Iteration = 387\n",
      "Cost function =  1.21970944279e+15\n",
      "Iteration = 390\n",
      "Cost function =  1.21954264601e+15\n",
      "Iteration = 393\n",
      "Cost function =  1.21937782209e+15\n",
      "Iteration = 396\n",
      "Cost function =  1.21921494771e+15\n",
      "Iteration = 399\n",
      "Cost function =  1.2190539998e+15\n",
      "Iteration = 402\n",
      "Cost function =  1.21889495558e+15\n",
      "Iteration = 405\n",
      "Cost function =  1.21873779252e+15\n",
      "Iteration = 408\n",
      "Cost function =  1.21858248838e+15\n",
      "Iteration = 411\n",
      "Cost function =  1.21842902118e+15\n",
      "Iteration = 414\n",
      "Cost function =  1.21827736918e+15\n",
      "Iteration = 417\n",
      "Cost function =  1.21812751091e+15\n",
      "Iteration = 420\n",
      "Cost function =  1.21797942517e+15\n",
      "Iteration = 423\n",
      "Cost function =  1.21783309097e+15\n",
      "Iteration = 426\n",
      "Cost function =  1.21768848761e+15\n",
      "Iteration = 429\n",
      "Cost function =  1.21754559462e+15\n",
      "Iteration = 432\n",
      "Cost function =  1.21740439175e+15\n",
      "Iteration = 435\n",
      "Cost function =  1.21726485903e+15\n",
      "Iteration = 438\n",
      "Cost function =  1.2171269767e+15\n",
      "Iteration = 441\n",
      "Cost function =  1.21699072524e+15\n",
      "Iteration = 444\n",
      "Cost function =  1.21685608535e+15\n",
      "Iteration = 447\n",
      "Cost function =  1.21672303798e+15\n",
      "Iteration = 450\n",
      "Cost function =  1.21659156428e+15\n",
      "Iteration = 453\n",
      "Cost function =  1.21646164566e+15\n",
      "Iteration = 456\n",
      "Cost function =  1.2163332637e+15\n",
      "Iteration = 459\n",
      "Cost function =  1.21620640025e+15\n",
      "Iteration = 462\n",
      "Cost function =  1.21608103732e+15\n",
      "Iteration = 465\n",
      "Cost function =  1.21595715719e+15\n",
      "Iteration = 468\n",
      "Cost function =  1.21583474231e+15\n",
      "Iteration = 471\n",
      "Cost function =  1.21571377535e+15\n",
      "Iteration = 474\n",
      "Cost function =  1.21559423917e+15\n",
      "Iteration = 477\n",
      "Cost function =  1.21547611687e+15\n",
      "Iteration = 480\n",
      "Cost function =  1.21535939172e+15\n",
      "Iteration = 483\n",
      "Cost function =  1.21524404718e+15\n",
      "Iteration = 486\n",
      "Cost function =  1.21513006694e+15\n",
      "Iteration = 489\n",
      "Cost function =  1.21501743485e+15\n",
      "Iteration = 492\n",
      "Cost function =  1.21490613497e+15\n",
      "Iteration = 495\n",
      "Cost function =  1.21479615154e+15\n",
      "Iteration = 498\n",
      "Cost function =  1.21468746899e+15\n",
      "Iteration = 501\n",
      "Cost function =  1.21458007193e+15\n",
      "Iteration = 504\n",
      "Cost function =  1.21447394516e+15\n",
      "Iteration = 507\n",
      "Cost function =  1.21436907366e+15\n",
      "Iteration = 510\n",
      "Cost function =  1.21426544257e+15\n",
      "Iteration = 513\n",
      "Cost function =  1.21416303722e+15\n",
      "Iteration = 516\n",
      "Cost function =  1.21406184313e+15\n",
      "Iteration = 519\n",
      "Cost function =  1.21396184595e+15\n",
      "Iteration = 522\n",
      "Cost function =  1.21386303153e+15\n",
      "Iteration = 525\n",
      "Cost function =  1.21376538589e+15\n",
      "Iteration = 528\n",
      "Cost function =  1.2136688952e+15\n",
      "Iteration = 531\n",
      "Cost function =  1.2135735458e+15\n",
      "Iteration = 534\n",
      "Cost function =  1.21347932418e+15\n",
      "Iteration = 537\n",
      "Cost function =  1.21338621702e+15\n",
      "Iteration = 540\n",
      "Cost function =  1.21329421112e+15\n",
      "Iteration = 543\n",
      "Cost function =  1.21320329347e+15\n",
      "Iteration = 546\n",
      "Cost function =  1.21311345119e+15\n",
      "Iteration = 549\n",
      "Cost function =  1.21302467155e+15\n",
      "Iteration = 552\n",
      "Cost function =  1.212936942e+15\n",
      "Iteration = 555\n",
      "Cost function =  1.21285025012e+15\n",
      "Iteration = 558\n",
      "Cost function =  1.21276458362e+15\n",
      "Iteration = 561\n",
      "Cost function =  1.21267993038e+15\n",
      "Iteration = 564\n",
      "Cost function =  1.21259627841e+15\n",
      "Iteration = 567\n",
      "Cost function =  1.21251361588e+15\n",
      "Iteration = 570\n",
      "Cost function =  1.21243193108e+15\n",
      "Iteration = 573\n",
      "Cost function =  1.21235121244e+15\n",
      "Iteration = 576\n",
      "Cost function =  1.21227144854e+15\n",
      "Iteration = 579\n",
      "Cost function =  1.21219262809e+15\n",
      "Iteration = 582\n",
      "Cost function =  1.21211473992e+15\n",
      "Iteration = 585\n",
      "Cost function =  1.21203777301e+15\n",
      "Iteration = 588\n",
      "Cost function =  1.21196171646e+15\n",
      "Iteration = 591\n",
      "Cost function =  1.2118865595e+15\n",
      "Iteration = 594\n",
      "Cost function =  1.2118122915e+15\n",
      "Iteration = 597\n",
      "Cost function =  1.21173890194e+15\n",
      "Iteration = 600\n",
      "Cost function =  1.21166638042e+15\n",
      "Iteration = 603\n",
      "Cost function =  1.21159471669e+15\n",
      "Iteration = 606\n",
      "Cost function =  1.2115239006e+15\n",
      "Iteration = 609\n",
      "Cost function =  1.21145392211e+15\n",
      "Iteration = 612\n",
      "Cost function =  1.21138477133e+15\n",
      "Iteration = 615\n",
      "Cost function =  1.21131643846e+15\n",
      "Iteration = 618\n",
      "Cost function =  1.21124891383e+15\n",
      "Iteration = 621\n",
      "Cost function =  1.21118218787e+15\n",
      "Iteration = 624\n",
      "Cost function =  1.21111625115e+15\n",
      "Iteration = 627\n",
      "Cost function =  1.21105109433e+15\n",
      "Iteration = 630\n",
      "Cost function =  1.21098670818e+15\n",
      "Iteration = 633\n",
      "Cost function =  1.21092308359e+15\n",
      "Iteration = 636\n",
      "Cost function =  1.21086021154e+15\n",
      "Iteration = 639\n",
      "Cost function =  1.21079808315e+15\n",
      "Iteration = 642\n",
      "Cost function =  1.21073668961e+15\n",
      "Iteration = 645\n",
      "Cost function =  1.21067602222e+15\n",
      "Iteration = 648\n",
      "Cost function =  1.21061607241e+15\n",
      "Iteration = 651\n",
      "Cost function =  1.21055683168e+15\n",
      "Iteration = 654\n",
      "Cost function =  1.21049829165e+15\n",
      "Iteration = 657\n",
      "Cost function =  1.21044044403e+15\n",
      "Iteration = 660\n",
      "Cost function =  1.21038328063e+15\n",
      "Iteration = 663\n",
      "Cost function =  1.21032679336e+15\n",
      "Iteration = 666\n",
      "Cost function =  1.21027097421e+15\n",
      "Iteration = 669\n",
      "Cost function =  1.2102158153e+15\n",
      "Iteration = 672\n",
      "Cost function =  1.2101613088e+15\n",
      "Iteration = 675\n",
      "Cost function =  1.210107447e+15\n",
      "Iteration = 678\n",
      "Cost function =  1.21005422227e+15\n",
      "Iteration = 681\n",
      "Cost function =  1.21000162709e+15\n",
      "Iteration = 684\n",
      "Cost function =  1.209949654e+15\n",
      "Iteration = 687\n",
      "Cost function =  1.20989829564e+15\n",
      "Iteration = 690\n",
      "Cost function =  1.20984754475e+15\n",
      "Iteration = 693\n",
      "Cost function =  1.20979739414e+15\n",
      "Iteration = 696\n",
      "Cost function =  1.20974783671e+15\n",
      "Iteration = 699\n",
      "Cost function =  1.20969886545e+15\n",
      "Iteration = 702\n",
      "Cost function =  1.20965047341e+15\n",
      "Iteration = 705\n",
      "Cost function =  1.20960265375e+15\n",
      "Iteration = 708\n",
      "Cost function =  1.20955539971e+15\n",
      "Iteration = 711\n",
      "Cost function =  1.20950870458e+15\n",
      "Iteration = 714\n",
      "Cost function =  1.20946256176e+15\n",
      "Iteration = 717\n",
      "Cost function =  1.20941696471e+15\n",
      "Iteration = 720\n",
      "Cost function =  1.20937190699e+15\n",
      "Iteration = 723\n",
      "Cost function =  1.2093273822e+15\n",
      "Iteration = 726\n",
      "Cost function =  1.20928338406e+15\n",
      "Iteration = 729\n",
      "Cost function =  1.20923990632e+15\n",
      "Iteration = 732\n",
      "Cost function =  1.20919694283e+15\n",
      "Iteration = 735\n",
      "Cost function =  1.20915448752e+15\n",
      "Iteration = 738\n",
      "Cost function =  1.20911253437e+15\n",
      "Iteration = 741\n",
      "Cost function =  1.20907107743e+15\n",
      "Iteration = 744\n",
      "Cost function =  1.20903011085e+15\n",
      "Iteration = 747\n",
      "Cost function =  1.20898962882e+15\n",
      "Iteration = 750\n",
      "Cost function =  1.20894962561e+15\n",
      "Iteration = 753\n",
      "Cost function =  1.20891009555e+15\n",
      "Iteration = 756\n",
      "Cost function =  1.20887103306e+15\n",
      "Iteration = 759\n",
      "Cost function =  1.20883243259e+15\n",
      "Iteration = 762\n",
      "Cost function =  1.20879428869e+15\n",
      "Iteration = 765\n",
      "Cost function =  1.20875659596e+15\n",
      "Iteration = 768\n",
      "Cost function =  1.20871934905e+15\n",
      "Iteration = 771\n",
      "Cost function =  1.2086825427e+15\n",
      "Iteration = 774\n",
      "Cost function =  1.20864617169e+15\n",
      "Iteration = 777\n",
      "Cost function =  1.20861023088e+15\n",
      "Iteration = 780\n",
      "Cost function =  1.20857471517e+15\n",
      "Iteration = 783\n",
      "Cost function =  1.20853961954e+15\n",
      "Iteration = 786\n",
      "Cost function =  1.20850493902e+15\n",
      "Iteration = 789\n",
      "Cost function =  1.2084706687e+15\n",
      "Iteration = 792\n",
      "Cost function =  1.20843680373e+15\n",
      "Iteration = 795\n",
      "Cost function =  1.20840333932e+15\n",
      "Iteration = 798\n",
      "Cost function =  1.20837027072e+15\n",
      "Iteration = 801\n",
      "Cost function =  1.20833759325e+15\n",
      "Iteration = 804\n",
      "Cost function =  1.20830530229e+15\n",
      "Iteration = 807\n",
      "Cost function =  1.20827339327e+15\n",
      "Iteration = 810\n",
      "Cost function =  1.20824186167e+15\n",
      "Iteration = 813\n",
      "Cost function =  1.20821070302e+15\n",
      "Iteration = 816\n",
      "Cost function =  1.20817991291e+15\n",
      "Iteration = 819\n",
      "Cost function =  1.20814948699e+15\n",
      "Iteration = 822\n",
      "Cost function =  1.20811942095e+15\n",
      "Iteration = 825\n",
      "Cost function =  1.20808971052e+15\n",
      "Iteration = 828\n",
      "Cost function =  1.20806035151e+15\n",
      "Iteration = 831\n",
      "Cost function =  1.20803133976e+15\n",
      "Iteration = 834\n",
      "Cost function =  1.20800267115e+15\n",
      "Iteration = 837\n",
      "Cost function =  1.20797434164e+15\n",
      "Iteration = 840\n",
      "Cost function =  1.20794634721e+15\n",
      "Iteration = 843\n",
      "Cost function =  1.2079186839e+15\n",
      "Iteration = 846\n",
      "Cost function =  1.20789134778e+15\n",
      "Iteration = 849\n",
      "Cost function =  1.207864335e+15\n",
      "Iteration = 852\n",
      "Cost function =  1.20783764172e+15\n",
      "Iteration = 855\n",
      "Cost function =  1.20781126417e+15\n",
      "Iteration = 858\n",
      "Cost function =  1.20778519861e+15\n",
      "Iteration = 861\n",
      "Cost function =  1.20775944136e+15\n",
      "Iteration = 864\n",
      "Cost function =  1.20773398876e+15\n",
      "Iteration = 867\n",
      "Cost function =  1.20770883721e+15\n",
      "Iteration = 870\n",
      "Cost function =  1.20768398316e+15\n",
      "Iteration = 873\n",
      "Cost function =  1.20765942308e+15\n",
      "Iteration = 876\n",
      "Cost function =  1.20763515349e+15\n",
      "Iteration = 879\n",
      "Cost function =  1.20761117096e+15\n",
      "Iteration = 882\n",
      "Cost function =  1.2075874721e+15\n",
      "Iteration = 885\n",
      "Cost function =  1.20756405355e+15\n",
      "Iteration = 888\n",
      "Cost function =  1.20754091199e+15\n",
      "Iteration = 891\n",
      "Cost function =  1.20751804415e+15\n",
      "Iteration = 894\n",
      "Cost function =  1.20749544678e+15\n",
      "Iteration = 897\n",
      "Cost function =  1.2074731167e+15\n",
      "Iteration = 900\n",
      "Cost function =  1.20745105074e+15\n",
      "Iteration = 903\n",
      "Cost function =  1.20742924578e+15\n",
      "Iteration = 906\n",
      "Cost function =  1.20740769872e+15\n",
      "Iteration = 909\n",
      "Cost function =  1.20738640652e+15\n",
      "Iteration = 912\n",
      "Cost function =  1.20736536616e+15\n",
      "Iteration = 915\n",
      "Cost function =  1.20734457467e+15\n",
      "Iteration = 918\n",
      "Cost function =  1.2073240291e+15\n",
      "Iteration = 921\n",
      "Cost function =  1.20730372654e+15\n",
      "Iteration = 924\n",
      "Cost function =  1.20728366412e+15\n",
      "Iteration = 927\n",
      "Cost function =  1.207263839e+15\n",
      "Iteration = 930\n",
      "Cost function =  1.20724424836e+15\n",
      "Iteration = 933\n",
      "Cost function =  1.20722488945e+15\n",
      "Iteration = 936\n",
      "Cost function =  1.20720575951e+15\n",
      "Iteration = 939\n",
      "Cost function =  1.20718685584e+15\n",
      "Iteration = 942\n",
      "Cost function =  1.20716817576e+15\n",
      "Iteration = 945\n",
      "Cost function =  1.20714971663e+15\n",
      "Iteration = 948\n",
      "Cost function =  1.20713147583e+15\n",
      "Iteration = 951\n",
      "Cost function =  1.20711345079e+15\n",
      "Iteration = 954\n",
      "Cost function =  1.20709563894e+15\n",
      "Iteration = 957\n",
      "Cost function =  1.20707803777e+15\n",
      "Iteration = 960\n",
      "Cost function =  1.20706064479e+15\n",
      "Iteration = 963\n",
      "Cost function =  1.20704345753e+15\n",
      "Iteration = 966\n",
      "Cost function =  1.20702647356e+15\n",
      "Iteration = 969\n",
      "Cost function =  1.20700969048e+15\n",
      "Iteration = 972\n",
      "Cost function =  1.20699310591e+15\n",
      "Iteration = 975\n",
      "Cost function =  1.2069767175e+15\n",
      "Iteration = 978\n",
      "Cost function =  1.20696052293e+15\n",
      "Iteration = 981\n",
      "Cost function =  1.20694451991e+15\n",
      "Iteration = 984\n",
      "Cost function =  1.20692870617e+15\n",
      "Iteration = 987\n",
      "Cost function =  1.20691307947e+15\n",
      "Iteration = 990\n",
      "Cost function =  1.20689763761e+15\n",
      "Iteration = 993\n",
      "Cost function =  1.2068823784e+15\n",
      "Iteration = 996\n",
      "Cost function =  1.20686729967e+15\n",
      "Iteration = 999\n",
      "Cost function =  1.20685239929e+15\n",
      "Done with gradient descent at iteration  1002\n",
      "learned weights =  [   0.          229.52024591   37.11091091]\n"
     ]
    }
   ],
   "source": [
    "#consider no regularization\n",
    "l2_penalty = 0.0\n",
    "multiple_weights_0_penalty = ridge_regression_gradient_descent(feature_matrix, output, initial_weights, step_size, l2_penalty, max_iterations)"
   ]
  },
  {
   "cell_type": "code",
   "execution_count": 69,
   "metadata": {
    "collapsed": false
   },
   "outputs": [
    {
     "name": "stdout",
     "output_type": "stream",
     "text": [
      "Starting gradient descent with l2_penalty = 1e+11\n",
      "Iteration = 0\n",
      "Cost function =  7.43305185103e+15\n",
      "Iteration = 3\n",
      "Cost function =  4.46049002287e+15\n",
      "Iteration = 6\n",
      "Cost function =  3.79667473523e+15\n",
      "Iteration = 9\n",
      "Cost function =  3.64831982757e+15\n",
      "Iteration = 12\n",
      "Cost function =  3.61509143965e+15\n",
      "Iteration = 15\n",
      "Cost function =  3.60760312221e+15\n",
      "Iteration = 18\n",
      "Cost function =  3.60588674646e+15\n",
      "Iteration = 21\n",
      "Cost function =  3.60547534384e+15\n",
      "Iteration = 24\n",
      "Cost function =  3.6053656822e+15\n",
      "Iteration = 27\n",
      "Cost function =  3.60532996177e+15\n",
      "Iteration = 30\n",
      "Cost function =  3.60531489978e+15\n",
      "Iteration = 33\n",
      "Cost function =  3.60530706804e+15\n",
      "Iteration = 36\n",
      "Cost function =  3.60530250155e+15\n",
      "Iteration = 39\n",
      "Cost function =  3.60529970516e+15\n",
      "Iteration = 42\n",
      "Cost function =  3.60529796044e+15\n",
      "Iteration = 45\n",
      "Cost function =  3.60529686444e+15\n",
      "Iteration = 48\n",
      "Cost function =  3.6052961743e+15\n",
      "Iteration = 51\n",
      "Cost function =  3.60529573933e+15\n",
      "Iteration = 54\n",
      "Cost function =  3.60529546511e+15\n",
      "Iteration = 57\n",
      "Cost function =  3.60529529222e+15\n",
      "Iteration = 60\n",
      "Cost function =  3.6052951832e+15\n",
      "Iteration = 63\n",
      "Cost function =  3.60529511446e+15\n",
      "Iteration = 66\n",
      "Cost function =  3.60529507112e+15\n",
      "Iteration = 69\n",
      "Cost function =  3.60529504379e+15\n",
      "Iteration = 72\n",
      "Cost function =  3.60529502656e+15\n",
      "Iteration = 75\n",
      "Cost function =  3.60529501569e+15\n",
      "Iteration = 78\n",
      "Cost function =  3.60529500884e+15\n",
      "Iteration = 81\n",
      "Cost function =  3.60529500452e+15\n",
      "Iteration = 84\n",
      "Cost function =  3.60529500179e+15\n",
      "Iteration = 87\n",
      "Cost function =  3.60529500008e+15\n",
      "Iteration = 90\n",
      "Cost function =  3.60529499899e+15\n",
      "Iteration = 93\n",
      "Cost function =  3.60529499831e+15\n",
      "Iteration = 96\n",
      "Cost function =  3.60529499788e+15\n",
      "Iteration = 99\n",
      "Cost function =  3.60529499761e+15\n",
      "Iteration = 102\n",
      "Cost function =  3.60529499744e+15\n",
      "Iteration = 105\n",
      "Cost function =  3.60529499733e+15\n",
      "Iteration = 108\n",
      "Cost function =  3.60529499726e+15\n",
      "Iteration = 111\n",
      "Cost function =  3.60529499722e+15\n",
      "Iteration = 114\n",
      "Cost function =  3.60529499719e+15\n",
      "Iteration = 117\n",
      "Cost function =  3.60529499717e+15\n",
      "Iteration = 120\n",
      "Cost function =  3.60529499716e+15\n",
      "Iteration = 123\n",
      "Cost function =  3.60529499716e+15\n",
      "Iteration = 126\n",
      "Cost function =  3.60529499715e+15\n",
      "Iteration = 129\n",
      "Cost function =  3.60529499715e+15\n",
      "Iteration = 132\n",
      "Cost function =  3.60529499715e+15\n",
      "Iteration = 135\n",
      "Cost function =  3.60529499715e+15\n",
      "Iteration = 138\n",
      "Cost function =  3.60529499715e+15\n",
      "Iteration = 141\n",
      "Cost function =  3.60529499715e+15\n",
      "Iteration = 144\n",
      "Cost function =  3.60529499715e+15\n",
      "Iteration = 147\n",
      "Cost function =  3.60529499715e+15\n",
      "Iteration = 150\n",
      "Cost function =  3.60529499715e+15\n",
      "Iteration = 153\n",
      "Cost function =  3.60529499715e+15\n",
      "Iteration = 156\n",
      "Cost function =  3.60529499715e+15\n",
      "Iteration = 159\n",
      "Cost function =  3.60529499715e+15\n",
      "Iteration = 162\n",
      "Cost function =  3.60529499715e+15\n",
      "Iteration = 165\n",
      "Cost function =  3.60529499715e+15\n",
      "Iteration = 168\n",
      "Cost function =  3.60529499715e+15\n",
      "Iteration = 171\n",
      "Cost function =  3.60529499715e+15\n",
      "Iteration = 174\n",
      "Cost function =  3.60529499715e+15\n",
      "Iteration = 177\n",
      "Cost function =  3.60529499715e+15\n",
      "Iteration = 180\n",
      "Cost function =  3.60529499715e+15\n",
      "Iteration = 183\n",
      "Cost function =  3.60529499715e+15\n",
      "Iteration = 186\n",
      "Cost function =  3.60529499715e+15\n",
      "Iteration = 189\n",
      "Cost function =  3.60529499715e+15\n",
      "Iteration = 192\n",
      "Cost function =  3.60529499715e+15\n",
      "Iteration = 195\n",
      "Cost function =  3.60529499715e+15\n",
      "Iteration = 198\n",
      "Cost function =  3.60529499715e+15\n",
      "Iteration = 201\n",
      "Cost function =  3.60529499715e+15\n",
      "Iteration = 204\n",
      "Cost function =  3.60529499715e+15\n",
      "Iteration = 207\n",
      "Cost function =  3.60529499715e+15\n",
      "Iteration = 210\n",
      "Cost function =  3.60529499715e+15\n",
      "Iteration = 213\n",
      "Cost function =  3.60529499715e+15\n",
      "Iteration = 216\n",
      "Cost function =  3.60529499715e+15\n",
      "Iteration = 219\n",
      "Cost function =  3.60529499715e+15\n",
      "Iteration = 222\n",
      "Cost function =  3.60529499715e+15\n",
      "Iteration = 225\n",
      "Cost function =  3.60529499715e+15\n",
      "Iteration = 228\n",
      "Cost function =  3.60529499715e+15\n",
      "Iteration = 231\n",
      "Cost function =  3.60529499715e+15\n",
      "Iteration = 234\n",
      "Cost function =  3.60529499715e+15\n",
      "Iteration = 237\n",
      "Cost function =  3.60529499715e+15\n",
      "Iteration = 240\n",
      "Cost function =  3.60529499715e+15\n",
      "Iteration = 243\n",
      "Cost function =  3.60529499715e+15\n",
      "Iteration = 246\n",
      "Cost function =  3.60529499715e+15\n",
      "Iteration = 249\n",
      "Cost function =  3.60529499715e+15\n",
      "Iteration = 252\n",
      "Cost function =  3.60529499715e+15\n",
      "Iteration = 255\n",
      "Cost function =  3.60529499715e+15\n",
      "Iteration = 258\n",
      "Cost function =  3.60529499715e+15\n",
      "Iteration = 261\n",
      "Cost function =  3.60529499715e+15\n",
      "Iteration = 264\n",
      "Cost function =  3.60529499715e+15\n",
      "Iteration = 267\n",
      "Cost function =  3.60529499715e+15\n",
      "Iteration = 270\n",
      "Cost function =  3.60529499715e+15\n",
      "Iteration = 273\n",
      "Cost function =  3.60529499715e+15\n",
      "Iteration = 276\n",
      "Cost function =  3.60529499715e+15\n",
      "Iteration = 279\n",
      "Cost function =  3.60529499715e+15\n",
      "Iteration = 282\n",
      "Cost function =  3.60529499715e+15\n",
      "Iteration = 285\n",
      "Cost function =  3.60529499715e+15\n",
      "Iteration = 288\n",
      "Cost function =  3.60529499715e+15\n",
      "Iteration = 291\n",
      "Cost function =  3.60529499715e+15\n",
      "Iteration = 294\n",
      "Cost function =  3.60529499715e+15\n",
      "Iteration = 297\n",
      "Cost function =  3.60529499715e+15\n",
      "Iteration = 300\n",
      "Cost function =  3.60529499715e+15\n",
      "Iteration = 303\n",
      "Cost function =  3.60529499715e+15\n",
      "Iteration = 306\n",
      "Cost function =  3.60529499715e+15\n",
      "Iteration = 309\n",
      "Cost function =  3.60529499715e+15\n",
      "Iteration = 312\n",
      "Cost function =  3.60529499715e+15\n",
      "Iteration = 315\n",
      "Cost function =  3.60529499715e+15\n",
      "Iteration = 318\n",
      "Cost function =  3.60529499715e+15\n",
      "Iteration = 321\n",
      "Cost function =  3.60529499715e+15\n",
      "Iteration = 324\n",
      "Cost function =  3.60529499715e+15\n",
      "Iteration = 327\n",
      "Cost function =  3.60529499715e+15\n",
      "Iteration = 330\n",
      "Cost function =  3.60529499715e+15\n",
      "Iteration = 333\n",
      "Cost function =  3.60529499715e+15\n",
      "Iteration = 336\n",
      "Cost function =  3.60529499715e+15\n",
      "Iteration = 339\n",
      "Cost function =  3.60529499715e+15\n",
      "Iteration = 342\n",
      "Cost function =  3.60529499715e+15\n",
      "Iteration = 345\n",
      "Cost function =  3.60529499715e+15\n",
      "Iteration = 348\n",
      "Cost function =  3.60529499715e+15\n",
      "Iteration = 351\n",
      "Cost function =  3.60529499715e+15\n",
      "Iteration = 354\n",
      "Cost function =  3.60529499715e+15\n",
      "Iteration = 357\n",
      "Cost function =  3.60529499715e+15\n",
      "Iteration = 360\n",
      "Cost function =  3.60529499715e+15\n",
      "Iteration = 363\n",
      "Cost function =  3.60529499715e+15\n",
      "Iteration = 366\n",
      "Cost function =  3.60529499715e+15\n",
      "Iteration = 369\n",
      "Cost function =  3.60529499715e+15\n",
      "Iteration = 372\n",
      "Cost function =  3.60529499715e+15\n",
      "Iteration = 375\n",
      "Cost function =  3.60529499715e+15\n",
      "Iteration = 378\n",
      "Cost function =  3.60529499715e+15\n",
      "Iteration = 381\n",
      "Cost function =  3.60529499715e+15\n",
      "Iteration = 384\n",
      "Cost function =  3.60529499715e+15\n",
      "Iteration = 387\n",
      "Cost function =  3.60529499715e+15\n",
      "Iteration = 390\n",
      "Cost function =  3.60529499715e+15\n",
      "Iteration = 393\n",
      "Cost function =  3.60529499715e+15\n",
      "Iteration = 396\n",
      "Cost function =  3.60529499715e+15\n",
      "Iteration = 399\n",
      "Cost function =  3.60529499715e+15\n",
      "Iteration = 402\n",
      "Cost function =  3.60529499715e+15\n",
      "Iteration = 405\n",
      "Cost function =  3.60529499715e+15\n",
      "Iteration = 408\n",
      "Cost function =  3.60529499715e+15\n",
      "Iteration = 411\n",
      "Cost function =  3.60529499715e+15\n",
      "Iteration = 414\n",
      "Cost function =  3.60529499715e+15\n",
      "Iteration = 417\n",
      "Cost function =  3.60529499715e+15\n",
      "Iteration = 420\n",
      "Cost function =  3.60529499715e+15\n",
      "Iteration = 423\n",
      "Cost function =  3.60529499715e+15\n",
      "Iteration = 426\n",
      "Cost function =  3.60529499715e+15\n",
      "Iteration = 429\n",
      "Cost function =  3.60529499715e+15\n",
      "Iteration = 432\n",
      "Cost function =  3.60529499715e+15\n",
      "Iteration = 435\n",
      "Cost function =  3.60529499715e+15\n",
      "Iteration = 438\n",
      "Cost function =  3.60529499715e+15\n",
      "Iteration = 441\n",
      "Cost function =  3.60529499715e+15\n",
      "Iteration = 444\n",
      "Cost function =  3.60529499715e+15\n",
      "Iteration = 447\n",
      "Cost function =  3.60529499715e+15\n",
      "Iteration = 450\n",
      "Cost function =  3.60529499715e+15\n",
      "Iteration = 453\n",
      "Cost function =  3.60529499715e+15\n",
      "Iteration = 456\n",
      "Cost function =  3.60529499715e+15\n",
      "Iteration = 459\n",
      "Cost function =  3.60529499715e+15\n",
      "Iteration = 462\n",
      "Cost function =  3.60529499715e+15\n",
      "Iteration = 465\n",
      "Cost function =  3.60529499715e+15\n",
      "Iteration = 468\n",
      "Cost function =  3.60529499715e+15\n",
      "Iteration = 471\n",
      "Cost function =  3.60529499715e+15\n",
      "Iteration = 474\n",
      "Cost function =  3.60529499715e+15\n",
      "Iteration = 477\n",
      "Cost function =  3.60529499715e+15\n",
      "Iteration = 480\n",
      "Cost function =  3.60529499715e+15\n",
      "Iteration = 483\n",
      "Cost function =  3.60529499715e+15\n",
      "Iteration = 486\n",
      "Cost function =  3.60529499715e+15\n",
      "Iteration = 489\n",
      "Cost function =  3.60529499715e+15\n",
      "Iteration = 492\n",
      "Cost function =  3.60529499715e+15\n",
      "Iteration = 495\n",
      "Cost function =  3.60529499715e+15\n",
      "Iteration = 498\n",
      "Cost function =  3.60529499715e+15\n",
      "Iteration = 501\n",
      "Cost function =  3.60529499715e+15\n",
      "Iteration = 504\n",
      "Cost function =  3.60529499715e+15\n",
      "Iteration = 507\n",
      "Cost function =  3.60529499715e+15\n",
      "Iteration = 510\n",
      "Cost function =  3.60529499715e+15\n",
      "Iteration = 513\n",
      "Cost function =  3.60529499715e+15\n",
      "Iteration = 516\n",
      "Cost function =  3.60529499715e+15\n",
      "Iteration = 519\n",
      "Cost function =  3.60529499715e+15\n",
      "Iteration = 522\n",
      "Cost function =  3.60529499715e+15\n",
      "Iteration = 525\n",
      "Cost function =  3.60529499715e+15\n",
      "Iteration = 528\n",
      "Cost function =  3.60529499715e+15\n",
      "Iteration = 531\n",
      "Cost function =  3.60529499715e+15\n",
      "Iteration = 534\n",
      "Cost function =  3.60529499715e+15\n",
      "Iteration = 537\n",
      "Cost function =  3.60529499715e+15\n",
      "Iteration = 540\n",
      "Cost function =  3.60529499715e+15\n",
      "Iteration = 543\n",
      "Cost function =  3.60529499715e+15\n",
      "Iteration = 546\n",
      "Cost function =  3.60529499715e+15\n",
      "Iteration = 549\n",
      "Cost function =  3.60529499715e+15\n",
      "Iteration = 552\n",
      "Cost function =  3.60529499715e+15\n",
      "Iteration = 555\n",
      "Cost function =  3.60529499715e+15\n",
      "Iteration = 558\n",
      "Cost function =  3.60529499715e+15\n",
      "Iteration = 561\n",
      "Cost function =  3.60529499715e+15\n",
      "Iteration = 564\n",
      "Cost function =  3.60529499715e+15\n",
      "Iteration = 567\n",
      "Cost function =  3.60529499715e+15\n",
      "Iteration = 570\n",
      "Cost function =  3.60529499715e+15\n",
      "Iteration = 573\n",
      "Cost function =  3.60529499715e+15\n",
      "Iteration = 576\n",
      "Cost function =  3.60529499715e+15\n",
      "Iteration = 579\n",
      "Cost function =  3.60529499715e+15\n",
      "Iteration = 582\n",
      "Cost function =  3.60529499715e+15\n",
      "Iteration = 585\n",
      "Cost function =  3.60529499715e+15\n",
      "Iteration = 588\n",
      "Cost function =  3.60529499715e+15\n",
      "Iteration = 591\n",
      "Cost function =  3.60529499715e+15\n",
      "Iteration = 594\n",
      "Cost function =  3.60529499715e+15\n",
      "Iteration = 597\n",
      "Cost function =  3.60529499715e+15\n",
      "Iteration = 600\n",
      "Cost function =  3.60529499715e+15\n",
      "Iteration = 603\n",
      "Cost function =  3.60529499715e+15\n",
      "Iteration = 606\n",
      "Cost function =  3.60529499715e+15\n",
      "Iteration = 609\n",
      "Cost function =  3.60529499715e+15\n",
      "Iteration = 612\n",
      "Cost function =  3.60529499715e+15\n",
      "Iteration = 615\n",
      "Cost function =  3.60529499715e+15\n",
      "Iteration = 618\n",
      "Cost function =  3.60529499715e+15\n",
      "Iteration = 621\n",
      "Cost function =  3.60529499715e+15\n",
      "Iteration = 624\n",
      "Cost function =  3.60529499715e+15\n",
      "Iteration = 627\n",
      "Cost function =  3.60529499715e+15\n",
      "Iteration = 630\n",
      "Cost function =  3.60529499715e+15\n",
      "Iteration = 633\n",
      "Cost function =  3.60529499715e+15\n",
      "Iteration = 636\n",
      "Cost function =  3.60529499715e+15\n",
      "Iteration = 639\n",
      "Cost function =  3.60529499715e+15\n",
      "Iteration = 642\n",
      "Cost function =  3.60529499715e+15\n",
      "Iteration = 645\n",
      "Cost function =  3.60529499715e+15\n",
      "Iteration = 648\n",
      "Cost function =  3.60529499715e+15\n",
      "Iteration = 651\n",
      "Cost function =  3.60529499715e+15\n",
      "Iteration = 654\n",
      "Cost function =  3.60529499715e+15\n",
      "Iteration = 657\n",
      "Cost function =  3.60529499715e+15\n",
      "Iteration = 660\n",
      "Cost function =  3.60529499715e+15\n",
      "Iteration = 663\n",
      "Cost function =  3.60529499715e+15\n",
      "Iteration = 666\n",
      "Cost function =  3.60529499715e+15\n",
      "Iteration = 669\n",
      "Cost function =  3.60529499715e+15\n",
      "Iteration = 672\n",
      "Cost function =  3.60529499715e+15\n",
      "Iteration = 675\n",
      "Cost function =  3.60529499715e+15\n",
      "Iteration = 678\n",
      "Cost function =  3.60529499715e+15\n",
      "Iteration = 681\n",
      "Cost function =  3.60529499715e+15\n",
      "Iteration = 684\n",
      "Cost function =  3.60529499715e+15\n",
      "Iteration = 687\n",
      "Cost function =  3.60529499715e+15\n",
      "Iteration = 690\n",
      "Cost function =  3.60529499715e+15\n",
      "Iteration = 693\n",
      "Cost function =  3.60529499715e+15\n",
      "Iteration = 696\n",
      "Cost function =  3.60529499715e+15\n",
      "Iteration = 699\n",
      "Cost function =  3.60529499715e+15\n",
      "Iteration = 702\n",
      "Cost function =  3.60529499715e+15\n",
      "Iteration = 705\n",
      "Cost function =  3.60529499715e+15\n",
      "Iteration = 708\n",
      "Cost function =  3.60529499715e+15\n",
      "Iteration = 711\n",
      "Cost function =  3.60529499715e+15\n",
      "Iteration = 714\n",
      "Cost function =  3.60529499715e+15\n",
      "Iteration = 717\n",
      "Cost function =  3.60529499715e+15\n",
      "Iteration = 720\n",
      "Cost function =  3.60529499715e+15\n",
      "Iteration = 723\n",
      "Cost function =  3.60529499715e+15\n",
      "Iteration = 726\n",
      "Cost function =  3.60529499715e+15\n",
      "Iteration = 729\n",
      "Cost function =  3.60529499715e+15\n",
      "Iteration = 732\n",
      "Cost function =  3.60529499715e+15\n",
      "Iteration = 735\n",
      "Cost function =  3.60529499715e+15\n",
      "Iteration = 738\n",
      "Cost function =  3.60529499715e+15\n",
      "Iteration = 741\n",
      "Cost function =  3.60529499715e+15\n",
      "Iteration = 744\n",
      "Cost function =  3.60529499715e+15\n",
      "Iteration = 747\n",
      "Cost function =  3.60529499715e+15\n",
      "Iteration = 750\n",
      "Cost function =  3.60529499715e+15\n",
      "Iteration = 753\n",
      "Cost function =  3.60529499715e+15\n",
      "Iteration = 756\n",
      "Cost function =  3.60529499715e+15\n",
      "Iteration = 759\n",
      "Cost function =  3.60529499715e+15\n",
      "Iteration = 762\n",
      "Cost function =  3.60529499715e+15\n",
      "Iteration = 765\n",
      "Cost function =  3.60529499715e+15\n",
      "Iteration = 768\n",
      "Cost function =  3.60529499715e+15\n",
      "Iteration = 771\n",
      "Cost function =  3.60529499715e+15\n",
      "Iteration = 774\n",
      "Cost function =  3.60529499715e+15\n",
      "Iteration = 777\n",
      "Cost function =  3.60529499715e+15\n",
      "Iteration = 780\n",
      "Cost function =  3.60529499715e+15\n",
      "Iteration = 783\n",
      "Cost function =  3.60529499715e+15\n",
      "Iteration = 786\n",
      "Cost function =  3.60529499715e+15\n",
      "Iteration = 789\n",
      "Cost function =  3.60529499715e+15\n",
      "Iteration = 792\n",
      "Cost function =  3.60529499715e+15\n",
      "Iteration = 795\n",
      "Cost function =  3.60529499715e+15\n",
      "Iteration = 798\n",
      "Cost function =  3.60529499715e+15\n",
      "Iteration = 801\n",
      "Cost function =  3.60529499715e+15\n",
      "Iteration = 804\n",
      "Cost function =  3.60529499715e+15\n",
      "Iteration = 807\n",
      "Cost function =  3.60529499715e+15\n",
      "Iteration = 810\n",
      "Cost function =  3.60529499715e+15\n",
      "Iteration = 813\n",
      "Cost function =  3.60529499715e+15\n",
      "Iteration = 816\n",
      "Cost function =  3.60529499715e+15\n",
      "Iteration = 819\n",
      "Cost function =  3.60529499715e+15\n",
      "Iteration = 822\n",
      "Cost function =  3.60529499715e+15\n",
      "Iteration = 825\n",
      "Cost function =  3.60529499715e+15\n",
      "Iteration = 828\n",
      "Cost function =  3.60529499715e+15\n",
      "Iteration = 831\n",
      "Cost function =  3.60529499715e+15\n",
      "Iteration = 834\n",
      "Cost function =  3.60529499715e+15\n",
      "Iteration = 837\n",
      "Cost function =  3.60529499715e+15\n",
      "Iteration = 840\n",
      "Cost function =  3.60529499715e+15\n",
      "Iteration = 843\n",
      "Cost function =  3.60529499715e+15\n",
      "Iteration = 846\n",
      "Cost function =  3.60529499715e+15\n",
      "Iteration = 849\n",
      "Cost function =  3.60529499715e+15\n",
      "Iteration = 852\n",
      "Cost function =  3.60529499715e+15\n",
      "Iteration = 855\n",
      "Cost function =  3.60529499715e+15\n",
      "Iteration = 858\n",
      "Cost function =  3.60529499715e+15\n",
      "Iteration = 861\n",
      "Cost function =  3.60529499715e+15\n",
      "Iteration = 864\n",
      "Cost function =  3.60529499715e+15\n",
      "Iteration = 867\n",
      "Cost function =  3.60529499715e+15\n",
      "Iteration = 870\n",
      "Cost function =  3.60529499715e+15\n",
      "Iteration = 873\n",
      "Cost function =  3.60529499715e+15\n",
      "Iteration = 876\n",
      "Cost function =  3.60529499715e+15\n",
      "Iteration = 879\n",
      "Cost function =  3.60529499715e+15\n",
      "Iteration = 882\n",
      "Cost function =  3.60529499715e+15\n",
      "Iteration = 885\n",
      "Cost function =  3.60529499715e+15\n",
      "Iteration = 888\n",
      "Cost function =  3.60529499715e+15\n",
      "Iteration = 891\n",
      "Cost function =  3.60529499715e+15\n",
      "Iteration = 894\n",
      "Cost function =  3.60529499715e+15\n",
      "Iteration = 897\n",
      "Cost function =  3.60529499715e+15\n",
      "Iteration = 900\n",
      "Cost function =  3.60529499715e+15\n",
      "Iteration = 903\n",
      "Cost function =  3.60529499715e+15\n",
      "Iteration = 906\n",
      "Cost function =  3.60529499715e+15\n",
      "Iteration = 909\n",
      "Cost function =  3.60529499715e+15\n",
      "Iteration = 912\n",
      "Cost function =  3.60529499715e+15\n",
      "Iteration = 915\n",
      "Cost function =  3.60529499715e+15\n",
      "Iteration = 918\n",
      "Cost function =  3.60529499715e+15\n",
      "Iteration = 921\n",
      "Cost function =  3.60529499715e+15\n",
      "Iteration = 924\n",
      "Cost function =  3.60529499715e+15\n",
      "Iteration = 927\n",
      "Cost function =  3.60529499715e+15\n",
      "Iteration = 930\n",
      "Cost function =  3.60529499715e+15\n",
      "Iteration = 933\n",
      "Cost function =  3.60529499715e+15\n",
      "Iteration = 936\n",
      "Cost function =  3.60529499715e+15\n",
      "Iteration = 939\n",
      "Cost function =  3.60529499715e+15\n",
      "Iteration = 942\n",
      "Cost function =  3.60529499715e+15\n",
      "Iteration = 945\n",
      "Cost function =  3.60529499715e+15\n",
      "Iteration = 948\n",
      "Cost function =  3.60529499715e+15\n",
      "Iteration = 951\n",
      "Cost function =  3.60529499715e+15\n",
      "Iteration = 954\n",
      "Cost function =  3.60529499715e+15\n",
      "Iteration = 957\n",
      "Cost function =  3.60529499715e+15\n",
      "Iteration = 960\n",
      "Cost function =  3.60529499715e+15\n",
      "Iteration = 963\n",
      "Cost function =  3.60529499715e+15\n",
      "Iteration = 966\n",
      "Cost function =  3.60529499715e+15\n",
      "Iteration = 969\n",
      "Cost function =  3.60529499715e+15\n",
      "Iteration = 972\n",
      "Cost function =  3.60529499715e+15\n",
      "Iteration = 975\n",
      "Cost function =  3.60529499715e+15\n",
      "Iteration = 978\n",
      "Cost function =  3.60529499715e+15\n",
      "Iteration = 981\n",
      "Cost function =  3.60529499715e+15\n",
      "Iteration = 984\n",
      "Cost function =  3.60529499715e+15\n",
      "Iteration = 987\n",
      "Cost function =  3.60529499715e+15\n",
      "Iteration = 990\n",
      "Cost function =  3.60529499715e+15\n",
      "Iteration = 993\n",
      "Cost function =  3.60529499715e+15\n",
      "Iteration = 996\n",
      "Cost function =  3.60529499715e+15\n",
      "Iteration = 999\n",
      "Cost function =  3.60529499715e+15\n",
      "Done with gradient descent at iteration  1002\n",
      "learned weights =  [  0.          91.49017202  78.43749488]\n"
     ]
    }
   ],
   "source": [
    "#considering high regularization\n",
    "l2_penalty = 1e11\n",
    "multiple_weights_high_penalty = ridge_regression_gradient_descent(feature_matrix, output, initial_weights, step_size, l2_penalty, max_iterations)"
   ]
  },
  {
   "cell_type": "code",
   "execution_count": 70,
   "metadata": {
    "collapsed": false
   },
   "outputs": [
    {
     "data": {
      "text/plain": [
       "1784273282524564.0"
      ]
     },
     "execution_count": 70,
     "metadata": {},
     "output_type": "execute_result"
    }
   ],
   "source": [
    "get_RSS(test_output,initial_weights,test_feature_matrix)"
   ]
  },
  {
   "cell_type": "code",
   "execution_count": 71,
   "metadata": {
    "collapsed": false
   },
   "outputs": [
    {
     "data": {
      "text/plain": [
       "273684275330513.22"
      ]
     },
     "execution_count": 71,
     "metadata": {},
     "output_type": "execute_result"
    }
   ],
   "source": [
    "get_RSS(test_output,multiple_weights_0_penalty,test_feature_matrix)"
   ]
  },
  {
   "cell_type": "code",
   "execution_count": 72,
   "metadata": {
    "collapsed": false
   },
   "outputs": [
    {
     "data": {
      "text/plain": [
       "500408548923844.44"
      ]
     },
     "execution_count": 72,
     "metadata": {},
     "output_type": "execute_result"
    }
   ],
   "source": [
    "get_RSS(test_output,multiple_weights_high_penalty, test_feature_matrix)"
   ]
  },
  {
   "cell_type": "code",
   "execution_count": 75,
   "metadata": {
    "collapsed": true
   },
   "outputs": [],
   "source": [
    "predictions_zero = predict_output(test_feature_matrix, multiple_weights_0_penalty)"
   ]
  },
  {
   "cell_type": "code",
   "execution_count": 76,
   "metadata": {
    "collapsed": false
   },
   "outputs": [
    {
     "data": {
      "text/plain": [
       "394271.37306161108"
      ]
     },
     "execution_count": 76,
     "metadata": {},
     "output_type": "execute_result"
    }
   ],
   "source": [
    "predictions_zero[0]"
   ]
  },
  {
   "cell_type": "code",
   "execution_count": 77,
   "metadata": {
    "collapsed": true
   },
   "outputs": [],
   "source": [
    "predictions_high = predict_output(test_feature_matrix, multiple_weights_high_penalty)"
   ]
  },
  {
   "cell_type": "code",
   "execution_count": 78,
   "metadata": {
    "collapsed": false
   },
   "outputs": [
    {
     "data": {
      "text/plain": [
       "270449.68688595097"
      ]
     },
     "execution_count": 78,
     "metadata": {},
     "output_type": "execute_result"
    }
   ],
   "source": [
    "predictions_high[0]"
   ]
  },
  {
   "cell_type": "code",
   "execution_count": 79,
   "metadata": {
    "collapsed": false
   },
   "outputs": [
    {
     "data": {
      "text/plain": [
       "array([  1.00000000e+00,   1.43000000e+03,   1.78000000e+03])"
      ]
     },
     "execution_count": 79,
     "metadata": {},
     "output_type": "execute_result"
    }
   ],
   "source": [
    "test_feature_matrix[0]"
   ]
  },
  {
   "cell_type": "code",
   "execution_count": 80,
   "metadata": {
    "collapsed": false
   },
   "outputs": [
    {
     "data": {
      "text/plain": [
       "310000.0"
      ]
     },
     "execution_count": 80,
     "metadata": {},
     "output_type": "execute_result"
    }
   ],
   "source": [
    "test_data[\"price\"][0]"
   ]
  },
  {
   "cell_type": "code",
   "execution_count": null,
   "metadata": {
    "collapsed": true
   },
   "outputs": [],
   "source": []
  }
 ],
 "metadata": {
  "kernelspec": {
   "display_name": "Python 2",
   "language": "python",
   "name": "python2"
  },
  "language_info": {
   "codemirror_mode": {
    "name": "ipython",
    "version": 2
   },
   "file_extension": ".py",
   "mimetype": "text/x-python",
   "name": "python",
   "nbconvert_exporter": "python",
   "pygments_lexer": "ipython2",
   "version": "2.7.11"
  }
 },
 "nbformat": 4,
 "nbformat_minor": 0
}
